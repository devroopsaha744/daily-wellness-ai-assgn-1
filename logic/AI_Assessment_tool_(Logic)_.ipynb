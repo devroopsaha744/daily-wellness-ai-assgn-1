{
  "nbformat": 4,
  "nbformat_minor": 0,
  "metadata": {
    "colab": {
      "provenance": []
    },
    "kernelspec": {
      "name": "python3",
      "display_name": "Python 3"
    },
    "language_info": {
      "name": "python"
    }
  },
  "cells": [
    {
      "cell_type": "code",
      "source": [
        "!pip install -q langchain langchain-groq langchain-core pydantic"
      ],
      "metadata": {
        "colab": {
          "base_uri": "https://localhost:8080/"
        },
        "id": "NcbJ3E6LfzUf",
        "outputId": "635874ea-b722-4428-e910-3848c51cdee6"
      },
      "execution_count": 1,
      "outputs": [
        {
          "output_type": "stream",
          "name": "stdout",
          "text": [
            "\u001b[?25l   \u001b[90m━━━━━━━━━━━━━━━━━━━━━━━━━━━━━━━━━━━━━━━━\u001b[0m \u001b[32m0.0/415.4 kB\u001b[0m \u001b[31m?\u001b[0m eta \u001b[36m-:--:--\u001b[0m\r\u001b[2K   \u001b[91m━━━━━━━━━━━━━━━━━━━━━━━━━━━\u001b[0m\u001b[91m╸\u001b[0m\u001b[90m━━━━━━━━━━━━\u001b[0m \u001b[32m286.7/415.4 kB\u001b[0m \u001b[31m9.0 MB/s\u001b[0m eta \u001b[36m0:00:01\u001b[0m\r\u001b[2K   \u001b[90m━━━━━━━━━━━━━━━━━━━━━━━━━━━━━━━━━━━━━━━━\u001b[0m \u001b[32m415.4/415.4 kB\u001b[0m \u001b[31m7.1 MB/s\u001b[0m eta \u001b[36m0:00:00\u001b[0m\n",
            "\u001b[?25h\u001b[?25l   \u001b[90m━━━━━━━━━━━━━━━━━━━━━━━━━━━━━━━━━━━━━━━━\u001b[0m \u001b[32m0.0/121.9 kB\u001b[0m \u001b[31m?\u001b[0m eta \u001b[36m-:--:--\u001b[0m\r\u001b[2K   \u001b[90m━━━━━━━━━━━━━━━━━━━━━━━━━━━━━━━━━━━━━━━━\u001b[0m \u001b[32m121.9/121.9 kB\u001b[0m \u001b[31m5.6 MB/s\u001b[0m eta \u001b[36m0:00:00\u001b[0m\n",
            "\u001b[?25h"
          ]
        }
      ]
    },
    {
      "cell_type": "code",
      "source": [
        "from google.colab import userdata\n",
        "api_key = userdata.get('GROQ_API_KEY')"
      ],
      "metadata": {
        "id": "r2ozN9pTp9iV"
      },
      "execution_count": 2,
      "outputs": []
    },
    {
      "cell_type": "code",
      "source": [
        "from langchain_groq import ChatGroq\n",
        "chat = ChatGroq(api_key = api_key, model = \"llama-3.3-70b-versatile\", temperature = 0.2)"
      ],
      "metadata": {
        "id": "uYKrl687yu_6"
      },
      "execution_count": 18,
      "outputs": []
    },
    {
      "cell_type": "code",
      "source": [
        "chat.invoke(\"hi\") #testing the model instantiation"
      ],
      "metadata": {
        "colab": {
          "base_uri": "https://localhost:8080/"
        },
        "id": "ef2KgZY-zJUq",
        "outputId": "e29a3733-d806-4890-b867-a4b223d8c8bf"
      },
      "execution_count": 4,
      "outputs": [
        {
          "output_type": "execute_result",
          "data": {
            "text/plain": [
              "AIMessage(content=\"It's nice to meet you. Is there something I can help you with or would you like to chat?\", additional_kwargs={}, response_metadata={'token_usage': {'completion_tokens': 23, 'prompt_tokens': 36, 'total_tokens': 59, 'completion_time': 0.083636364, 'prompt_time': 0.004618614, 'queue_time': 0.224620243, 'total_time': 0.088254978}, 'model_name': 'llama-3.3-70b-versatile', 'system_fingerprint': 'fp_5d5eebccf4', 'finish_reason': 'stop', 'logprobs': None}, id='run-51e5c79e-c35e-4c8f-9b8b-70cea1be2c2c-0', usage_metadata={'input_tokens': 36, 'output_tokens': 23, 'total_tokens': 59})"
            ]
          },
          "metadata": {},
          "execution_count": 4
        }
      ]
    },
    {
      "cell_type": "code",
      "source": [
        "from typing import TypedDict, List\n",
        "from typing_extensions import Annotated\n",
        "\n",
        "class AssessmentOutput(TypedDict):\n",
        "    \"\"\"Assessment output containing individual KPIs (as percentages out of 100), recommended packages, and a summary report.\"\"\"\n",
        "    stress_management: Annotated[float, \"Percentage score (0-100) for Stress Management KPI. Reflects how well the user manages daily stress.\"]\n",
        "    motivation: Annotated[float, \"Percentage score (0-100) for Motivation KPI. Represents the user's drive and energy to pursue wellness goals.\"]\n",
        "    restless_night_score: Annotated[float, \"Percentage score (0-100) for Restless Night Score KPI. Indicates the frequency of sleep disturbances and overall sleep quality.\"]\n",
        "    anxiety_level: Annotated[float, \"Percentage score (0-100) for Anxiety Level KPI. Measures how often the user experiences anxiety, especially before sleep.\"]\n",
        "    burnout_level: Annotated[float, \"Percentage score (0-100) for Burnout Level KPI. Reflects how overwhelmed or emotionally drained the user feels.\"]\n",
        "    physical_fitness_score: Annotated[float, \"Percentage score (0-100) for Physical Fitness KPI. Assesses the user's level of physical activity and strength.\"]\n",
        "    dietary_habit_score: Annotated[float, \"Percentage score (0-100) for Diet & Nutrition KPI. Evaluates the user's satisfaction with and balance of their eating habits.\"]\n",
        "    focus_score: Annotated[float, \"Percentage score (0-100) for Cognitive Performance and Focus KPI. Measures the user's ability to concentrate and stay focused on tasks.\"]\n",
        "    overall_wellness_score: Annotated[float, \"Aggregated overall wellness percentage score (0-100) based on all the individual KPIs.\"]\n",
        "    package: Annotated[List[str], \"List of recommended packages. Options include 'Focus', 'Fitness', and 'Insomnia'. The recommendation can be a single package, a combination of packages, or all three packages based on the assessment.\"]\n",
        "    report: Annotated[str, \"A detailed summary report of the assessment results and recommendations based on the KPI analysis.\"]\n"
      ],
      "metadata": {
        "id": "EjQYqeEb2wlS"
      },
      "execution_count": 5,
      "outputs": []
    },
    {
      "cell_type": "code",
      "source": [
        "from langchain.schema import SystemMessage, HumanMessage\n",
        "from langchain.prompts import PromptTemplate"
      ],
      "metadata": {
        "id": "N--Iw3_L_BE3"
      },
      "execution_count": 6,
      "outputs": []
    },
    {
      "cell_type": "code",
      "source": [
        "template = \"\"\"\n",
        "You are an AI wellness assessment system designed to evaluate users' well-being and provide personalized insights. This assessment system analyzes responses and generates wellness reports, recommending specific services and packages from *DailyWellnessAI* to help users improve their mental and physical health. While this system itself is not called *DailyWellnessAI*, all recommendations are part of the *DailyWellnessAI* platform.\n",
        "\n",
        "Based on the user's responses to the following 15 questions, predict the following KPIs as percentages out of 100:\n",
        "- stress_management\n",
        "- motivation\n",
        "- restless_night_score\n",
        "- anxiety_level\n",
        "- burnout_level\n",
        "- physical_fitness_score\n",
        "- dietary_habit_score\n",
        "- focus_score\n",
        "- overall_wellness_score\n",
        "\n",
        "**Recommendation System:**\n",
        "Based on the predicted KPIs, recommend one of the following *DailyWellnessAI* packages:\n",
        "- **Focus** (for low concentration, motivation, or burnout)\n",
        "- **Insomnia** (for sleep disturbances, restlessness, or anxiety before sleep)\n",
        "- **Fitness** (for low physical activity, poor dietary habits, or weak physical strength)\n",
        "\n",
        "If the **overall_wellness_score** is greater than 90 (or 95), recommend **all three packages** and let the user choose among them, emphasizing that *DailyWellnessAI* offers holistic well-being solutions.\n",
        "\n",
        "**Summary Report:**\n",
        "Provide a brief wellness summary explaining the predicted KPIs and recommended package(s) based on the user's responses. Justify the recommendations by highlighting key factors affecting the user's well-being and how *DailyWellnessAI* can help improve them.\n",
        "\n",
        "### Assessment Questions:\n",
        "\n",
        "1. How often do you feel stressed by daily tasks?\n",
        "   Options: Never, Sometimes, Often, Always\n",
        "   Answer: {ans1}\n",
        "\n",
        "2. How well do you handle stress?\n",
        "   Options: Excellent, Good, Fair, Poor\n",
        "   Answer: {ans2}\n",
        "\n",
        "3. How would you rate your current level of burnout?\n",
        "   Options: None, Mild, Moderate, Severe\n",
        "   Answer: {ans3}\n",
        "\n",
        "4. How well can you concentrate on your daily tasks?\n",
        "   Options: Excellent, Good, Fair, Poor\n",
        "   Answer: {ans4}\n",
        "\n",
        "5. How often do you have trouble falling asleep?\n",
        "   Options: Never, Rarely, Sometimes, Always\n",
        "   Answer: {ans5}\n",
        "\n",
        "6. How would you rate the quality of your sleep?\n",
        "   Options: Excellent, Good, Fair, Poor\n",
        "   Answer: {ans6}\n",
        "\n",
        "7. How often do you wake up during the night?\n",
        "   Options: Never, Rarely, Sometimes, Often\n",
        "   Answer: {ans7}\n",
        "\n",
        "8. How often do you feel anxious before sleep?\n",
        "   Options: Never, Rarely, Sometimes, Often\n",
        "   Answer: {ans8}\n",
        "\n",
        "9. How happy are you with your eating habits?\n",
        "   Options: Very happy, Happy, Unhappy, Very unhappy\n",
        "   Answer: {ans9}\n",
        "\n",
        "10. How balanced is your diet?\n",
        "    Options: Very balanced, Balanced, Unbalanced, Very unbalanced\n",
        "    Answer: {ans10}\n",
        "\n",
        "11. How often do you exercise or do physical activity?\n",
        "    Options: Daily, Several times a week, Once a week, Never\n",
        "    Answer: {ans11}\n",
        "\n",
        "12. How would you rate your physical strength?\n",
        "    Options: Excellent, Good, Fair, Poor\n",
        "    Answer: {ans12}\n",
        "\n",
        "13. How motivated are you to work on your wellness goals daily?\n",
        "    Options: Very motivated, Moderately motivated, Slightly motivated, Not at all\n",
        "    Answer: {ans13}\n",
        "\n",
        "14. How would you rate your overall health and well-being?\n",
        "    Options: Excellent, Good, Fair, Poor\n",
        "    Answer: {ans14}\n",
        "\n",
        "15. Any more remarks about yourself that you want to add?\n",
        "    Answer: {ans15}\n",
        "\n",
        "Use the responses to generate KPI predictions, determine the recommended *DailyWellnessAI* package(s), and provide a concise summary report that briefly justifies the recommendations.\n",
        "\"\"\"\n",
        "\n",
        "prompt_template = PromptTemplate(\n",
        "    input_variables=[\n",
        "        \"ans1\", \"ans2\", \"ans3\", \"ans4\", \"ans5\", \"ans6\", \"ans7\", \"ans8\", \"ans9\",\n",
        "        \"ans10\", \"ans11\", \"ans12\", \"ans13\", \"ans14\", \"ans15\"\n",
        "    ],\n",
        "    template=template\n",
        ")\n"
      ],
      "metadata": {
        "id": "pdjmPku2YxH7"
      },
      "execution_count": 12,
      "outputs": []
    },
    {
      "cell_type": "code",
      "source": [
        "sample_inputs = {\n",
        "    \"ans1\": \"Always\",\n",
        "    \"ans2\": \"Poor\",\n",
        "    \"ans3\": \"Severe\",\n",
        "    \"ans4\": \"Poor\",\n",
        "    \"ans5\": \"Always\",\n",
        "    \"ans6\": \"Poor\",\n",
        "    \"ans7\": \"Often\",\n",
        "    \"ans8\": \"Often\",\n",
        "    \"ans9\": \"Unhappy\",\n",
        "    \"ans10\": \"Unbalanced\",\n",
        "    \"ans11\": \"Never\",\n",
        "    \"ans12\": \"Poor\",\n",
        "    \"ans13\": \"Not at all\",\n",
        "    \"ans14\": \"Poor\",\n",
        "    \"ans15\": \"I constantly feel fatigued, have trouble sleeping, and struggle to focus. My stress levels are high, and I feel physically weak and unmotivated.\"\n",
        "}\n",
        "\n",
        "formatted_prompt = prompt_template.format(**sample_inputs)\n",
        "print(formatted_prompt)"
      ],
      "metadata": {
        "colab": {
          "base_uri": "https://localhost:8080/"
        },
        "id": "wVehWwwTJoHJ",
        "outputId": "e2cfe08b-a33b-4afd-d7e6-868ab8129ac7"
      },
      "execution_count": 13,
      "outputs": [
        {
          "output_type": "stream",
          "name": "stdout",
          "text": [
            "\n",
            "You are an AI wellness assessment system designed to evaluate users' well-being and provide personalized insights. This assessment system analyzes responses and generates wellness reports, recommending specific services and packages from *DailyWellnessAI* to help users improve their mental and physical health. While this system itself is not called *DailyWellnessAI*, all recommendations are part of the *DailyWellnessAI* platform.\n",
            "\n",
            "Based on the user's responses to the following 15 questions, predict the following KPIs as percentages out of 100:\n",
            "- stress_management\n",
            "- motivation\n",
            "- restless_night_score\n",
            "- anxiety_level\n",
            "- burnout_level\n",
            "- physical_fitness_score\n",
            "- dietary_habit_score\n",
            "- focus_score\n",
            "- overall_wellness_score\n",
            "\n",
            "**Recommendation System:**  \n",
            "Based on the predicted KPIs, recommend one of the following *DailyWellnessAI* packages:  \n",
            "- **Focus** (for low concentration, motivation, or burnout)  \n",
            "- **Insomnia** (for sleep disturbances, restlessness, or anxiety before sleep)  \n",
            "- **Fitness** (for low physical activity, poor dietary habits, or weak physical strength)  \n",
            "\n",
            "If the **overall_wellness_score** is greater than 90 (or 95), recommend **all three packages** and let the user choose among them, emphasizing that *DailyWellnessAI* offers holistic well-being solutions.\n",
            "\n",
            "**Summary Report:**  \n",
            "Provide a brief wellness summary explaining the predicted KPIs and recommended package(s) based on the user's responses. Justify the recommendations by highlighting key factors affecting the user's well-being and how *DailyWellnessAI* can help improve them.\n",
            "\n",
            "### Assessment Questions:\n",
            "\n",
            "1. How often do you feel stressed by daily tasks?\n",
            "   Options: Never, Sometimes, Often, Always\n",
            "   Answer: Always\n",
            "\n",
            "2. How well do you handle stress?\n",
            "   Options: Excellent, Good, Fair, Poor\n",
            "   Answer: Poor\n",
            "\n",
            "3. How would you rate your current level of burnout?\n",
            "   Options: None, Mild, Moderate, Severe\n",
            "   Answer: Severe\n",
            "\n",
            "4. How well can you concentrate on your daily tasks?\n",
            "   Options: Excellent, Good, Fair, Poor\n",
            "   Answer: Poor\n",
            "\n",
            "5. How often do you have trouble falling asleep?\n",
            "   Options: Never, Rarely, Sometimes, Always\n",
            "   Answer: Always\n",
            "\n",
            "6. How would you rate the quality of your sleep?\n",
            "   Options: Excellent, Good, Fair, Poor\n",
            "   Answer: Poor\n",
            "\n",
            "7. How often do you wake up during the night?\n",
            "   Options: Never, Rarely, Sometimes, Often\n",
            "   Answer: Often\n",
            "\n",
            "8. How often do you feel anxious before sleep?\n",
            "   Options: Never, Rarely, Sometimes, Often\n",
            "   Answer: Often\n",
            "\n",
            "9. How happy are you with your eating habits?\n",
            "   Options: Very happy, Happy, Unhappy, Very unhappy\n",
            "   Answer: Unhappy\n",
            "\n",
            "10. How balanced is your diet?\n",
            "    Options: Very balanced, Balanced, Unbalanced, Very unbalanced\n",
            "    Answer: Unbalanced\n",
            "\n",
            "11. How often do you exercise or do physical activity?\n",
            "    Options: Daily, Several times a week, Once a week, Never\n",
            "    Answer: Never\n",
            "\n",
            "12. How would you rate your physical strength?\n",
            "    Options: Excellent, Good, Fair, Poor\n",
            "    Answer: Poor\n",
            "\n",
            "13. How motivated are you to work on your wellness goals daily?\n",
            "    Options: Very motivated, Moderately motivated, Slightly motivated, Not at all\n",
            "    Answer: Not at all\n",
            "\n",
            "14. How would you rate your overall health and well-being?\n",
            "    Options: Excellent, Good, Fair, Poor\n",
            "    Answer: Poor\n",
            "\n",
            "15. Any more remarks about yourself that you want to add?\n",
            "    Answer: I constantly feel fatigued, have trouble sleeping, and struggle to focus. My stress levels are high, and I feel physically weak and unmotivated.\n",
            "\n",
            "Use the responses to generate KPI predictions, determine the recommended *DailyWellnessAI* package(s), and provide a concise summary report that briefly justifies the recommendations.\n",
            "\n"
          ]
        }
      ]
    },
    {
      "cell_type": "code",
      "source": [
        "sample_inputs_2 = {\n",
        "    \"ans1\": \"Sometimes\",\n",
        "    \"ans2\": \"Fair\",\n",
        "    \"ans3\": \"Mild\",\n",
        "    \"ans4\": \"Poor\",\n",
        "    \"ans5\": \"Rarely\",\n",
        "    \"ans6\": \"Good\",\n",
        "    \"ans7\": \"Rarely\",\n",
        "    \"ans8\": \"Sometimes\",\n",
        "    \"ans9\": \"Happy\",\n",
        "    \"ans10\": \"Balanced\",\n",
        "    \"ans11\": \"Several times a week\",\n",
        "    \"ans12\": \"Good\",\n",
        "    \"ans13\": \"Moderately motivated\",\n",
        "    \"ans14\": \"Good\",\n",
        "    \"ans15\": \"I struggle with maintaining focus and often get distracted easily. However, my sleep quality is decent, and I try to stay active through regular workouts.\"\n",
        "}\n",
        "\n",
        "formatted_prompt_2 = prompt_template.format(**sample_inputs_2)\n",
        "print(formatted_prompt)\n"
      ],
      "metadata": {
        "colab": {
          "base_uri": "https://localhost:8080/"
        },
        "id": "dKCDaDhSHb_i",
        "outputId": "5a30e860-0060-46ad-a4f0-86603adadfac"
      },
      "execution_count": 21,
      "outputs": [
        {
          "output_type": "stream",
          "name": "stdout",
          "text": [
            "\n",
            "You are an AI wellness assessment system designed to evaluate users' well-being and provide personalized insights. This assessment system analyzes responses and generates wellness reports, recommending specific services and packages from *DailyWellnessAI* to help users improve their mental and physical health. While this system itself is not called *DailyWellnessAI*, all recommendations are part of the *DailyWellnessAI* platform.\n",
            "\n",
            "Based on the user's responses to the following 15 questions, predict the following KPIs as percentages out of 100:\n",
            "- stress_management\n",
            "- motivation\n",
            "- restless_night_score\n",
            "- anxiety_level\n",
            "- burnout_level\n",
            "- physical_fitness_score\n",
            "- dietary_habit_score\n",
            "- focus_score\n",
            "- overall_wellness_score\n",
            "\n",
            "**Recommendation System:**  \n",
            "Based on the predicted KPIs, recommend one of the following *DailyWellnessAI* packages:  \n",
            "- **Focus** (for low concentration, motivation, or burnout)  \n",
            "- **Insomnia** (for sleep disturbances, restlessness, or anxiety before sleep)  \n",
            "- **Fitness** (for low physical activity, poor dietary habits, or weak physical strength)  \n",
            "\n",
            "If the **overall_wellness_score** is greater than 90 (or 95), recommend **all three packages** and let the user choose among them, emphasizing that *DailyWellnessAI* offers holistic well-being solutions.\n",
            "\n",
            "**Summary Report:**  \n",
            "Provide a brief wellness summary explaining the predicted KPIs and recommended package(s) based on the user's responses. Justify the recommendations by highlighting key factors affecting the user's well-being and how *DailyWellnessAI* can help improve them.\n",
            "\n",
            "### Assessment Questions:\n",
            "\n",
            "1. How often do you feel stressed by daily tasks?\n",
            "   Options: Never, Sometimes, Often, Always\n",
            "   Answer: Always\n",
            "\n",
            "2. How well do you handle stress?\n",
            "   Options: Excellent, Good, Fair, Poor\n",
            "   Answer: Poor\n",
            "\n",
            "3. How would you rate your current level of burnout?\n",
            "   Options: None, Mild, Moderate, Severe\n",
            "   Answer: Severe\n",
            "\n",
            "4. How well can you concentrate on your daily tasks?\n",
            "   Options: Excellent, Good, Fair, Poor\n",
            "   Answer: Poor\n",
            "\n",
            "5. How often do you have trouble falling asleep?\n",
            "   Options: Never, Rarely, Sometimes, Always\n",
            "   Answer: Always\n",
            "\n",
            "6. How would you rate the quality of your sleep?\n",
            "   Options: Excellent, Good, Fair, Poor\n",
            "   Answer: Poor\n",
            "\n",
            "7. How often do you wake up during the night?\n",
            "   Options: Never, Rarely, Sometimes, Often\n",
            "   Answer: Often\n",
            "\n",
            "8. How often do you feel anxious before sleep?\n",
            "   Options: Never, Rarely, Sometimes, Often\n",
            "   Answer: Often\n",
            "\n",
            "9. How happy are you with your eating habits?\n",
            "   Options: Very happy, Happy, Unhappy, Very unhappy\n",
            "   Answer: Unhappy\n",
            "\n",
            "10. How balanced is your diet?\n",
            "    Options: Very balanced, Balanced, Unbalanced, Very unbalanced\n",
            "    Answer: Unbalanced\n",
            "\n",
            "11. How often do you exercise or do physical activity?\n",
            "    Options: Daily, Several times a week, Once a week, Never\n",
            "    Answer: Never\n",
            "\n",
            "12. How would you rate your physical strength?\n",
            "    Options: Excellent, Good, Fair, Poor\n",
            "    Answer: Poor\n",
            "\n",
            "13. How motivated are you to work on your wellness goals daily?\n",
            "    Options: Very motivated, Moderately motivated, Slightly motivated, Not at all\n",
            "    Answer: Not at all\n",
            "\n",
            "14. How would you rate your overall health and well-being?\n",
            "    Options: Excellent, Good, Fair, Poor\n",
            "    Answer: Poor\n",
            "\n",
            "15. Any more remarks about yourself that you want to add?\n",
            "    Answer: I constantly feel fatigued, have trouble sleeping, and struggle to focus. My stress levels are high, and I feel physically weak and unmotivated.\n",
            "\n",
            "Use the responses to generate KPI predictions, determine the recommended *DailyWellnessAI* package(s), and provide a concise summary report that briefly justifies the recommendations.\n",
            "\n"
          ]
        }
      ]
    },
    {
      "cell_type": "code",
      "source": [
        "structured_llm = chat.with_structured_output(AssessmentOutput)"
      ],
      "metadata": {
        "id": "CnMcXKW0f1SA"
      },
      "execution_count": 14,
      "outputs": []
    },
    {
      "cell_type": "code",
      "source": [
        "response_2 = structured_llm.invoke(formatted_prompt_2)"
      ],
      "metadata": {
        "id": "xmCz__iTf8CA"
      },
      "execution_count": 24,
      "outputs": []
    },
    {
      "cell_type": "code",
      "source": [
        "response_2"
      ],
      "metadata": {
        "id": "2c_DDWMQcUwo",
        "colab": {
          "base_uri": "https://localhost:8080/"
        },
        "outputId": "94996209-b04d-464a-8930-519567c2acba"
      },
      "execution_count": 25,
      "outputs": [
        {
          "output_type": "execute_result",
          "data": {
            "text/plain": [
              "{'anxiety_level': 60,\n",
              " 'burnout_level': 40,\n",
              " 'dietary_habit_score': 80,\n",
              " 'focus_score': 40,\n",
              " 'motivation': 60,\n",
              " 'overall_wellness_score': 65,\n",
              " 'package': ['Focus'],\n",
              " 'physical_fitness_score': 70,\n",
              " 'report': \"The user experiences moderate anxiety and burnout levels, with notable difficulties in maintaining focus. Their dietary habits are balanced, and they engage in regular physical activity. However, they struggle with concentration and motivation. The recommended 'Focus' package from DailyWellnessAI can help improve their focus, motivation, and overall well-being by providing tailored strategies and support.\",\n",
              " 'restless_night_score': 20,\n",
              " 'stress_management': 50}"
            ]
          },
          "metadata": {},
          "execution_count": 25
        }
      ]
    },
    {
      "cell_type": "code",
      "source": [],
      "metadata": {
        "colab": {
          "base_uri": "https://localhost:8080/"
        },
        "id": "UCl4GgqJjy_f",
        "outputId": "899a7338-eb28-40ec-fcbb-170ed1bda3c0"
      },
      "execution_count": 17,
      "outputs": [
        {
          "output_type": "execute_result",
          "data": {
            "text/plain": [
              "int"
            ]
          },
          "metadata": {},
          "execution_count": 17
        }
      ]
    },
    {
      "cell_type": "code",
      "source": [],
      "metadata": {
        "id": "_vOKPQvIj6KX"
      },
      "execution_count": null,
      "outputs": []
    }
  ]
}