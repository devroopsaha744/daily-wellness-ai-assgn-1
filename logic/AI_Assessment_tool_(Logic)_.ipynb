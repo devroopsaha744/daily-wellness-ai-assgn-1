{
  "nbformat": 4,
  "nbformat_minor": 0,
  "metadata": {
    "colab": {
      "provenance": []
    },
    "kernelspec": {
      "name": "python3",
      "display_name": "Python 3"
    },
    "language_info": {
      "name": "python"
    }
  },
  "cells": [
    {
      "cell_type": "code",
      "source": [
        "!pip install -q langchain langchain-groq langchain-core pydantic"
      ],
      "metadata": {
        "colab": {
          "base_uri": "https://localhost:8080/"
        },
        "id": "NcbJ3E6LfzUf",
        "outputId": "008ce6a5-6bbf-42cc-f4e2-34c7c8574732"
      },
      "execution_count": 1,
      "outputs": [
        {
          "output_type": "stream",
          "name": "stdout",
          "text": [
            "\u001b[?25l   \u001b[90m━━━━━━━━━━━━━━━━━━━━━━━━━━━━━━━━━━━━━━━━\u001b[0m \u001b[32m0.0/121.9 kB\u001b[0m \u001b[31m?\u001b[0m eta \u001b[36m-:--:--\u001b[0m\r\u001b[2K   \u001b[90m━━━━━━━━━━━━━━━━━━━━━━━━━━━━━━━━━━━━━━━━\u001b[0m \u001b[32m121.9/121.9 kB\u001b[0m \u001b[31m4.1 MB/s\u001b[0m eta \u001b[36m0:00:00\u001b[0m\n",
            "\u001b[?25h"
          ]
        }
      ]
    },
    {
      "cell_type": "code",
      "source": [
        "from google.colab import userdata\n",
        "api_key = userdata.get('GROQ_API_KEY')"
      ],
      "metadata": {
        "id": "r2ozN9pTp9iV"
      },
      "execution_count": 2,
      "outputs": []
    },
    {
      "cell_type": "code",
      "source": [
        "from langchain_groq import ChatGroq\n",
        "chat = ChatGroq(api_key = api_key, model = \"llama-3.3-70b-versatile\")"
      ],
      "metadata": {
        "id": "uYKrl687yu_6"
      },
      "execution_count": 3,
      "outputs": []
    },
    {
      "cell_type": "code",
      "source": [
        "chat.invoke(\"hi\") #testing the model instantiation"
      ],
      "metadata": {
        "colab": {
          "base_uri": "https://localhost:8080/"
        },
        "id": "ef2KgZY-zJUq",
        "outputId": "d36c151e-83a1-4d04-86c9-d1e485889573"
      },
      "execution_count": 4,
      "outputs": [
        {
          "output_type": "execute_result",
          "data": {
            "text/plain": [
              "AIMessage(content=\"It's nice to meet you. Is there something I can help you with or would you like to chat?\", additional_kwargs={}, response_metadata={'token_usage': {'completion_tokens': 23, 'prompt_tokens': 36, 'total_tokens': 59, 'completion_time': 0.084145689, 'prompt_time': 0.004437277, 'queue_time': 0.23458809700000002, 'total_time': 0.088582966}, 'model_name': 'llama-3.3-70b-versatile', 'system_fingerprint': 'fp_7b42aeb9fa', 'finish_reason': 'stop', 'logprobs': None}, id='run-ce7ed68d-842a-49fc-b80f-7898b8d01f8a-0', usage_metadata={'input_tokens': 36, 'output_tokens': 23, 'total_tokens': 59})"
            ]
          },
          "metadata": {},
          "execution_count": 4
        }
      ]
    },
    {
      "cell_type": "code",
      "source": [
        "from typing import TypedDict, List\n",
        "from typing_extensions import Annotated\n",
        "\n",
        "class AssessmentOutput(TypedDict):\n",
        "    \"\"\"Assessment output containing individual KPIs, recommended packages, and a summary report.\"\"\"\n",
        "    stress_management: Annotated[float, \"Numerical score for Stress Management KPI\"]\n",
        "    therapy_engagement: Annotated[float, \"Numerical score for Therapy Engagement KPI\"]\n",
        "    motivation: Annotated[float, \"Numerical score for Motivation KPI\"]\n",
        "    restless_night_score: Annotated[float, \"Numerical score for Restless Night Score KPI\"]\n",
        "    anxiety_level: Annotated[float, \"Numerical score for Anxiety Level KPI\"]\n",
        "    burnout_level: Annotated[float, \"Numerical score for Burnout Level KPI\"]\n",
        "    balanced_weight: Annotated[float, \"Numerical score for Balanced Weight KPI\"]\n",
        "    package_focus: Annotated[str, \"Category for package recommendation: 'Focus', 'Nutrition', or 'Yoga/Physical'\"]\n",
        "    report: Annotated[str, \"Text-based summary report of the assessment results and reasoning behind recommendations\"]\n"
      ],
      "metadata": {
        "id": "EjQYqeEb2wlS"
      },
      "execution_count": 19,
      "outputs": []
    },
    {
      "cell_type": "code",
      "source": [
        "from langchain.schema import SystemMessage, HumanMessage\n",
        "from langchain.prompts import PromptTemplate"
      ],
      "metadata": {
        "id": "N--Iw3_L_BE3"
      },
      "execution_count": 16,
      "outputs": []
    },
    {
      "cell_type": "code",
      "source": [
        "template = \"\"\"\n",
        "You are an AI wellness assessment system. Based on the user's responses, predict the following KPIs:\n",
        "- stress_management\n",
        "- motivation\n",
        "- restless_night_score\n",
        "- anxiety_level\n",
        "- burnout_level\n",
        "- balanced_weight\n",
        "- package_focus (Focus, Nutrition, or Fitness)\n",
        "- report (a summary of the assessment results and recommendations)\n",
        "\n",
        "### Assessment Questions:\n",
        "\n",
        "1. How often do you feel stressed by daily tasks?\n",
        "   Options: Never, Sometimes, Often, Always\n",
        "   Answer: {ans1}\n",
        "\n",
        "2. How good are you at handling stress?\n",
        "   Options: Excellent, Good, Fair, Poor\n",
        "   Answer: {ans2}\n",
        "\n",
        "3. How confident are you in the ways you deal with stress?\n",
        "   Options: Confident, Somewhat Confident, Not at all\n",
        "   Answer: {ans3}\n",
        "\n",
        "4. How motivated are you to work on your wellness goals daily?\n",
        "   Options: Very motivated, Moderately motivated, Slightly motivated, Not at all\n",
        "   Answer: {ans4}\n",
        "\n",
        "5. How much energy do you have when you start your day to work on your goals?\n",
        "   Options: Full energy, Some energy, Very little energy, None\n",
        "   Answer: {ans5}\n",
        "\n",
        "6. How often do you have trouble falling asleep?\n",
        "   Options: Never, Sometimes, Often, Always\n",
        "   Answer: {ans6}\n",
        "\n",
        "7. How would you rate the quality of your sleep overall?\n",
        "   Options: Excellent, Good, Fair, Poor\n",
        "   Answer: {ans7}\n",
        "\n",
        "8. How often do you wake up during the night?\n",
        "   Options: Never, Sometimes, Often, Always\n",
        "   Answer: {ans8}\n",
        "\n",
        "9. Do you feel refreshed when you wake up in the morning?\n",
        "   Options: Always, Most of the time, Sometimes, Never\n",
        "   Answer: {ans9}\n",
        "\n",
        "10. How often do you feel physical signs of anxiety during your daily activities?\n",
        "    Options: Never, Sometimes, Often, Always\n",
        "    Answer: {ans10}\n",
        "\n",
        "11. How easy can you calm down when you're feeling anxious?\n",
        "    Options: Very easy, Neutral, Somewhat difficult, Very difficult\n",
        "    Answer: {ans11}\n",
        "\n",
        "12. How often do you feel nervous for no apparent reason?\n",
        "    Options: Never, Sometimes, Often, Always\n",
        "    Answer: {ans12}\n",
        "\n",
        "13. How often do you feel emotionally drained from work or your daily responsibilities?\n",
        "    Options: Never, Sometimes, Often, Always\n",
        "    Answer: {ans13}\n",
        "\n",
        "14. How would you rate your current level of burnout?\n",
        "    Options: Not at all, Mild, Moderate, Severe\n",
        "    Answer: {ans14}\n",
        "\n",
        "15. How often do you feel uninterested in your daily tasks?\n",
        "    Options: Never, Sometimes, Often, Always\n",
        "    Answer: {ans15}\n",
        "\n",
        "16. Do you feel like your workload is too much to handle?\n",
        "    Options: Never, Sometimes, Often, Always\n",
        "    Answer: {ans16}\n",
        "\n",
        "17. Which wellness area do you think needs the most improvement?\n",
        "    Options: Focus (mental clarity & concentration), Nutrition (diet and weight management), Fitness (physical activity and flexibility)\n",
        "    Answer: {ans17}\n",
        "\n",
        "18. How happy are you with your current eating habits?\n",
        "    Options: Satisfied, Neutral, Unsatisfied, Very unsatisfied\n",
        "    Answer: {ans18}\n",
        "\n",
        "19. How often do you do physical activities like yoga, stretching, or exercise?\n",
        "    Options: Daily, Several times a week, Once a week, Never\n",
        "    Answer: {ans19}\n",
        "\n",
        "20. How would you rate your ability to stay focused and concentrate on daily tasks?\n",
        "    Options: Excellent, Good, Fair, Poor\n",
        "    Answer: {ans20}\n",
        "\n",
        "Use this information to generate KPI predictions and a summary report.\n",
        "\"\"\"\n",
        "\n",
        "# Define the LangChain prompt template\n",
        "prompt_template = PromptTemplate(\n",
        "    input_variables=[\n",
        "        \"ans1\", \"ans2\", \"ans3\", \"ans4\", \"ans5\", \"ans6\", \"ans7\", \"ans8\", \"ans9\", \"ans10\",\n",
        "        \"ans11\", \"ans12\", \"ans13\", \"ans14\", \"ans15\", \"ans16\", \"ans17\", \"ans18\", \"ans19\", \"ans20\"\n",
        "    ],\n",
        "    template=template\n",
        ")\n",
        "\n",
        "# Sample responses\n",
        "sample_inputs = {\n",
        "    \"ans1\": \"Often\",\n",
        "    \"ans2\": \"Good\",\n",
        "    \"ans3\": \"Confident\",\n",
        "    \"ans4\": \"Very motivated\",\n",
        "    \"ans5\": \"Full energy\",\n",
        "    \"ans6\": \"Sometimes\",\n",
        "    \"ans7\": \"Good\",\n",
        "    \"ans8\": \"Sometimes\",\n",
        "    \"ans9\": \"Most of the time\",\n",
        "    \"ans10\": \"Sometimes\",\n",
        "    \"ans11\": \"Neutral\",\n",
        "    \"ans12\": \"Never\",\n",
        "    \"ans13\": \"Sometimes\",\n",
        "    \"ans14\": \"Moderate\",\n",
        "    \"ans15\": \"Sometimes\",\n",
        "    \"ans16\": \"Sometimes\",\n",
        "    \"ans17\": \"Nutrition\",\n",
        "    \"ans18\": \"Satisfied\",\n",
        "    \"ans19\": \"Several times a week\",\n",
        "    \"ans20\": \"Good\"\n",
        "}\n",
        "\n",
        "# Generate formatted prompt\n",
        "formatted_prompt = prompt_template.format(**sample_inputs)"
      ],
      "metadata": {
        "id": "pdjmPku2YxH7"
      },
      "execution_count": 15,
      "outputs": []
    },
    {
      "cell_type": "code",
      "source": [
        "structured_llm = chat.with_structured_output(AssessmentOutput)"
      ],
      "metadata": {
        "id": "CnMcXKW0f1SA"
      },
      "execution_count": 20,
      "outputs": []
    },
    {
      "cell_type": "code",
      "source": [
        "response = structured_llm.invoke(formatted_prompt)"
      ],
      "metadata": {
        "id": "xmCz__iTf8CA"
      },
      "execution_count": 22,
      "outputs": []
    },
    {
      "cell_type": "code",
      "source": [
        "response"
      ],
      "metadata": {
        "id": "2c_DDWMQcUwo",
        "colab": {
          "base_uri": "https://localhost:8080/"
        },
        "outputId": "21e4c5eb-f06d-44ac-90bb-6b55c4f2d5e5"
      },
      "execution_count": 23,
      "outputs": [
        {
          "output_type": "execute_result",
          "data": {
            "text/plain": [
              "{'anxiety_level': 4,\n",
              " 'balanced_weight': 6,\n",
              " 'burnout_level': 5,\n",
              " 'motivation': 8,\n",
              " 'package_focus': 'Nutrition',\n",
              " 'report': 'Based on your assessment, you are experiencing moderate levels of anxiety and burnout. However, you are highly motivated to work on your wellness goals and have good energy levels. Your sleep quality is good, but you sometimes have trouble falling asleep or wake up during the night. You are satisfied with your current eating habits, but feel that nutrition is the area that needs the most improvement. It is recommended that you focus on nutrition and consider seeking professional help to manage stress and anxiety. Engaging in physical activities like yoga or exercise several times a week can also help improve your overall well-being.',\n",
              " 'restless_night_score': 3,\n",
              " 'stress_management': 7,\n",
              " 'therapy_engagement': 6}"
            ]
          },
          "metadata": {},
          "execution_count": 23
        }
      ]
    },
    {
      "cell_type": "code",
      "source": [
        "type(response['motivation'])"
      ],
      "metadata": {
        "colab": {
          "base_uri": "https://localhost:8080/"
        },
        "id": "UCl4GgqJjy_f",
        "outputId": "97287dca-5bac-4c26-c047-6670003f93be"
      },
      "execution_count": 24,
      "outputs": [
        {
          "output_type": "execute_result",
          "data": {
            "text/plain": [
              "int"
            ]
          },
          "metadata": {},
          "execution_count": 24
        }
      ]
    },
    {
      "cell_type": "code",
      "source": [],
      "metadata": {
        "id": "_vOKPQvIj6KX"
      },
      "execution_count": null,
      "outputs": []
    }
  ]
}